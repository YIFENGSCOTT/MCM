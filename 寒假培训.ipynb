{
 "cells": [
  {
   "cell_type": "markdown",
   "metadata": {},
   "source": [
    "# 寒假数模培训题"
   ]
  },
  {
   "attachments": {},
   "cell_type": "markdown",
   "metadata": {},
   "source": [
    "##### u: 疫苗注射率\n",
    "##### α: 潜伏期患者转化为感染者的概率\n",
    "##### β: 感染率\n",
    "##### r: 接触的人数\n",
    "##### γ: 康复率\n",
    "##### d: 因病死亡率\n",
    "##### N：总人数\n",
    "##### S：易感者人数\n",
    "##### I：感染者人数\n",
    "##### E：潜伏者人数\n",
    "##### R：免疫者人数\n",
    "##### t: 时间戳"
   ]
  },
  {
   "cell_type": "code",
   "execution_count": 2,
   "metadata": {},
   "outputs": [],
   "source": [
    "global u\n",
    "u = 0.01\n",
    "global alpha\n",
    "alpha = 0.3\n",
    "global beta\n",
    "beta = 0.05\n",
    "global r\n",
    "r = 50\n",
    "global gamma\n",
    "gamma = 0.1\n",
    "global d\n",
    "d = 0.01\n",
    "global N\n",
    "N = 101000\n",
    "global S\n",
    "S = 100000\n",
    "global I\n",
    "I = 1000\n",
    "global E\n",
    "E = 0\n",
    "global R\n",
    "R = 0\n",
    "global t\n",
    "t = 0"
   ]
  },
  {
   "cell_type": "code",
   "execution_count": 3,
   "metadata": {},
   "outputs": [],
   "source": [
    "global rA\n",
    "rA = 200\n",
    "global betaB\n",
    "betaB = 0.15\n",
    "\n",
    "global Sa\n",
    "Sa = 10000\n",
    "global Sb\n",
    "Sb = 10000\n",
    "global Sc\n",
    "Sc = 80000"
   ]
  },
  {
   "cell_type": "code",
   "execution_count": 4,
   "metadata": {},
   "outputs": [],
   "source": [
    "import math"
   ]
  },
  {
   "cell_type": "markdown",
   "metadata": {},
   "source": [
    "# 1⃣️ 只考虑疫苗"
   ]
  },
  {
   "cell_type": "code",
   "execution_count": 5,
   "metadata": {},
   "outputs": [],
   "source": [
    "def iCase1(t, S, r, beta, N, u, R, gamma, I, alpha, E):\n",
    "    t = t + 1\n",
    "    S = S - r * beta * I * S / N - u * S \n",
    "    R = R - gamma * I + u * S\n",
    "    I = alpha * E - gamma * I + I\n",
    "    E = gamma * beta * I * S / N - alpha * E + E\n",
    "    return (t, S, I, E, R)"
   ]
  },
  {
   "cell_type": "markdown",
   "metadata": {},
   "source": [
    "# 2⃣️ 考虑疫苗+感染率随季节变化"
   ]
  },
  {
   "cell_type": "code",
   "execution_count": 6,
   "metadata": {},
   "outputs": [],
   "source": [
    "def calBeta(beta, t):\n",
    "    rbeta = beta + beta * math.cos(6.28 * t)\n",
    "    return rbeta"
   ]
  },
  {
   "cell_type": "code",
   "execution_count": 24,
   "metadata": {},
   "outputs": [],
   "source": [
    "def iCase2(t, beta, S, r, I, N, u, R, gamma, alpha, E):\n",
    "    t = t + 1\n",
    "    beta = calBeta(beta, t)\n",
    "    S = S - r * beta * I * S / N - u * S \n",
    "    R = R - gamma * I + u * S\n",
    "    I = alpha * E - gamma * I + I\n",
    "    E = gamma * beta * I * S / N - alpha * E + E\n",
    "    return (t, S, I, E, R)"
   ]
  },
  {
   "cell_type": "markdown",
   "metadata": {},
   "source": [
    "# 3⃣️ 对人群分类\n",
    "#### Sa: 接触的人多（医生）rA、beta\n",
    "#### Sb: 接触后被感染率大（老人）r、betaB\n",
    "#### Sc: 普通人 rB"
   ]
  },
  {
   "cell_type": "code",
   "execution_count": 8,
   "metadata": {},
   "outputs": [],
   "source": [
    "def iCase3(t, S, rA, beta, I, Sa, N, r, betaB, Sb, Sc, u, R, gamma, alpha, E):\n",
    "    t = t + 1\n",
    "    S = S - rA * beta * I * Sa / N - r * betaB * I * Sb / N - r * beta * I * Sc / N - u * (Sa + Sb + Sc) \n",
    "    R = R - gamma * I + u * S\n",
    "    I = alpha * E - gamma * I + I\n",
    "    E = rA * beta * I * Sa / N + r * betaB * I * Sb / N + r * beta * I * Sc / N - alpha * E + E\n",
    "    return (t, S, I, R, E)"
   ]
  },
  {
   "cell_type": "markdown",
   "metadata": {},
   "source": [
    "# 4⃣️ 当疫苗产量受限制"
   ]
  },
  {
   "cell_type": "code",
   "execution_count": 9,
   "metadata": {},
   "outputs": [],
   "source": [
    "def calU(t, S):\n",
    "    ru = (1000 - 900 * math.exp(- t / 5)) / S\n",
    "    return ru"
   ]
  },
  {
   "cell_type": "code",
   "execution_count": 10,
   "metadata": {},
   "outputs": [],
   "source": [
    "def iCase4(t, S, rA, beta, I, Sa, N, r, betaB, Sb, Sc, u, R, gamma, alpha, E):\n",
    "    t = t + 1\n",
    "    floating_u = calU(t, S)\n",
    "    S = S - rA * beta * I * Sa / N - r * betaB * I * Sb / N - r * beta * I * Sc / N - floating_u * (Sa + Sb + Sc) \n",
    "    R = R - gamma * I + floating_u * S\n",
    "    I = alpha * E - gamma * I + I\n",
    "    E = rA * beta * I * Sa / N + r * betaB * I * Sb / N + r * beta * I * Sc / N - alpha * E + E\n",
    "    return (t, S, I, R, E)"
   ]
  },
  {
   "cell_type": "code",
   "execution_count": 26,
   "metadata": {},
   "outputs": [],
   "source": [
    "t = 0\n",
    "S = 100000\n",
    "I = 1000\n",
    "R = 0\n",
    "E = 0\n"
   ]
  },
  {
   "cell_type": "code",
   "execution_count": 19,
   "outputs": [
    {
     "name": "stdout",
     "output_type": "stream",
     "text": [
      "[[1, 96524.75247524753, 900.0, 4.300607783550634, 865.2475247524753], [2, 93170.27840407804, 1159.5742574257426, 611.0216760591367, 836.0033918243311], [3, 89932.38061003532, 1150.8010175472994, 590.3258532431942, 1410.34548215949], [4, 86807.0077789341, 1323.103644647847, 992.9277121835877, 1358.3959310325351], [5, 83790.249389785, 1307.5187793097605, 956.3007816534772, 1730.8302060814376], [6, 80878.33082188257, 1419.2490618244312, 1217.263644016456, 1665.084089872303], [7, 78067.60863193397, 1399.5252269616908, 1170.9676543803628, 1897.9397303357957], [8, 75354.56599531924, 1469.3819191007387, 1334.0392288981861, 1824.5133143335552], [9, 72735.80830577893, 1447.3539943000665, 1282.3709270968557, 1961.3973119559755], [10, 70208.05892802365, 1488.4191935867925, 1378.1513373024968, 1884.451516377092]]\n"
     ]
    }
   ],
   "source": [
    "state = [[] for i in range(10)]\n",
    "for i in range(10):\n",
    "    state[i] = list(iCase1(t, S, r, beta, N, u, R, gamma, I, alpha, E))\n",
    "    t, S, T, R, E = iCase1(t, S, r, beta, N, u, R, gamma, I, alpha, E)\n",
    "print(state)"
   ],
   "metadata": {
    "collapsed": false,
    "pycharm": {
     "name": "#%%\n"
    }
   }
  },
  {
   "cell_type": "code",
   "execution_count": 28,
   "outputs": [
    {
     "name": "stdout",
     "output_type": "stream",
     "text": [
      "[[4, 78239.81143831763, 1299.100577605868, 941.2977760505802, 1246.8086423987288], [5, 73584.40094412083, 1274.0425927196186, 882.0476057267651, 1577.1417854917886], [6, 69206.09744248944, 1373.1425356475365, 1113.4072853569864, 1474.1085801516597], [7, 65088.417848130804, 1342.2325740454978, 1040.5248117070655, 1664.2914638382945], [8, 61215.85782622681, 1399.2874391514883, 1173.4836955744288, 1552.6833899693338], [9, 57573.83383874187, 1365.8050169908001, 1094.662380495879, 1649.2220339618475], [10, 54148.62860882911, 1394.7666101885543, 1161.9312201700805, 1536.14866658417], [11, 50927.33980275863, 1360.844599975251, 1082.1637623074841, 1571.2046181976668], [12, 47897.83174048782, 1371.3613854593, 1106.3443463482981, 1461.1420797123624], [13, 45048.68995701236, 1338.3426239137086, 1028.7662617865064, 1456.8312459184217]]\n"
     ]
    }
   ],
   "source": [
    "state2 = [[] for i in range(10)]\n",
    "for i in range(10):\n",
    "    state2[i] = list(iCase2(t, beta, S, r, I, N, u, R, gamma, alpha, E))\n",
    "    t, S, T, R, E = iCase2(t, beta, S, r, I, N, u, R, gamma, alpha, E)\n",
    "print(state2)\n",
    "\n",
    "\n"
   ],
   "metadata": {
    "collapsed": false,
    "pycharm": {
     "name": "#%%\n"
    }
   }
  },
  {
   "cell_type": "code",
   "execution_count": 22,
   "outputs": [
    {
     "name": "stdout",
     "output_type": "stream",
     "text": [
      "[[1, 95287.12871287129, 900.0, 852.8712871287129, 3341.5841584158416], [2, 90574.25742574257, 1902.4752475247524, 1658.6138613861385, 9402.754631898833], [3, 85861.38613861386, 3720.82638956965, 2417.227722772277, 20396.877708553133], [4, 81148.51485148515, 7019.06331256594, 3128.7128712871286, 40338.69303175181], [5, 76435.64356435643, 13001.607909525543, 3793.069306930693, 76510.38181600923], [6, 71722.77227722772, 23853.11454480277, 4410.297029702971, 142120.81137319695], [7, 67009.900990099, 43536.24341195908, 4980.39603960396, 261129.03607494733], [8, 62297.029702970285, 79238.7108224842, 5503.366336633663, 476993.4594943599], [9, 57584.15841584157, 143998.03784830795, 5979.207920792079, 868541.6017759081], [10, 52871.28712871286, 261462.48053277243, 6407.920792079207, 1578755.6578747164]]\n"
     ]
    }
   ],
   "source": [
    "state3 = [[] for i in range(10)]\n",
    "for i in range(10):\n",
    "    state3[i] = list(iCase3(t, S, rA, beta, I, Sa, N, r, betaB, Sb, Sc, u, R, gamma, alpha, E))\n",
    "    t, S, T, R, E = iCase3(t, S, rA, beta, I, Sa, N, r, betaB, Sb, Sc, u, R, gamma, alpha, E)\n",
    "print(state3)\n",
    "\n",
    "\n",
    "\n"
   ],
   "metadata": {
    "collapsed": false,
    "pycharm": {
     "name": "#%%\n"
    }
   }
  },
  {
   "cell_type": "code",
   "execution_count": 23,
   "outputs": [
    {
     "name": "stdout",
     "output_type": "stream",
     "text": [
      "[[11, 47455.644438871335, 474526.6973624149, 7115.981934557378, 2866985.510125228], [12, 41807.58956526224, 860995.6530375684, 7825.035545727418, 5203655.895593483], [13, 35862.698232705094, 1561996.768678045, 8525.498159112905, 9442052.07992798], [14, 29514.021525962802, 2833515.623978394, 9203.43033804015, 17129915.257849563], [15, 22564.750761288604, 5139874.577354869, 9833.715813787936, 31074633.41819842], [16, 14582.76953977452, 9323290.025459526, 10356.270276918975, 56368419.2298411], [17, 4218.4590017536575, 16911425.76895233, 10536.85851474441, 102247840.6228405], [18, -22616.80483184639, 30675252.186852146, 5207.312120055592, 185466751.50598395], [19, -21997.206025986037, 55640925.45179518, 6060.334492424625, 336414320.5534283], [20, -21238.98255754316, 100925196.16602848, 6909.949527691701, 610212287.3800799]]\n"
     ]
    }
   ],
   "source": [
    "state4 = [[] for i in range(10)]\n",
    "for i in range(10):\n",
    "    state4[i] = list(iCase4(t, S, rA, beta, I, Sa, N, r, betaB, Sb, Sc, u, R, gamma, alpha, E))\n",
    "    t, S, T, R, E = iCase4(t, S, rA, beta, I, Sa, N, r, betaB, Sb, Sc, u, R, gamma, alpha, E)\n",
    "print(state4)\n",
    "\n",
    "\n",
    "\n",
    "\n",
    "\n"
   ],
   "metadata": {
    "collapsed": false,
    "pycharm": {
     "name": "#%%\n"
    }
   }
  }
 ],
 "metadata": {
  "kernelspec": {
   "display_name": "Python 3",
   "language": "python",
   "name": "python3"
  },
  "language_info": {
   "codemirror_mode": {
    "name": "ipython",
    "version": 3
   },
   "file_extension": ".py",
   "mimetype": "text/x-python",
   "name": "python",
   "nbconvert_exporter": "python",
   "pygments_lexer": "ipython3",
   "version": "3.8.3"
  }
 },
 "nbformat": 4,
 "nbformat_minor": 4
}